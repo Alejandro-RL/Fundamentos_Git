{
 "cells": [
  {
   "cell_type": "code",
   "execution_count": 1,
   "metadata": {},
   "outputs": [],
   "source": [
    "def caixa(valor):\n",
    "    if(valor < 10 or valor > 600):\n",
    "        return print(\"Valor inválido\")\n",
    "    \n",
    "    notas = [100,50,10,5,1]\n",
    "    qtde = [0,0,0,0,0]\n",
    "    i = 0\n",
    "\n",
    "    while(valor > 0):\n",
    "        if (notas[i] <= valor):\n",
    "            valor -= notas[i]\n",
    "            qtde[i] += 1\n",
    "        else:\n",
    "            i += 1\n",
    "    \n",
    "\n",
    "    for i in range(len(notas)):\n",
    "        print(f\"{qtde[i]} notas de {notas[i]} reais\")\n",
    "        \n",
    "\n",
    "\n",
    "\n",
    "\n",
    "\n"
   ]
  },
  {
   "cell_type": "code",
   "execution_count": 2,
   "metadata": {},
   "outputs": [
    {
     "name": "stdout",
     "output_type": "stream",
     "text": [
      "2 notas de 100 reais\n",
      "1 notas de 50 reais\n",
      "0 notas de 10 reais\n",
      "1 notas de 5 reais\n",
      "1 notas de 1 reais\n"
     ]
    }
   ],
   "source": [
    "caixa(256)"
   ]
  }
 ],
 "metadata": {
  "kernelspec": {
   "display_name": "Python 3",
   "language": "python",
   "name": "python3"
  },
  "language_info": {
   "codemirror_mode": {
    "name": "ipython",
    "version": 3
   },
   "file_extension": ".py",
   "mimetype": "text/x-python",
   "name": "python",
   "nbconvert_exporter": "python",
   "pygments_lexer": "ipython3",
   "version": "3.10.6"
  },
  "orig_nbformat": 4
 },
 "nbformat": 4,
 "nbformat_minor": 2
}
